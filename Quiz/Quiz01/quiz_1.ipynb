{
 "cells": [
  {
   "metadata": {
    "ExecuteTime": {
     "end_time": "2024-09-16T10:43:42.415489Z",
     "start_time": "2024-09-16T10:43:42.400925Z"
    }
   },
   "cell_type": "code",
   "source": "load_ext run_and_test",
   "id": "a35864149ca969f",
   "outputs": [
    {
     "name": "stdout",
     "output_type": "stream",
     "text": [
      "The run_and_test extension is already loaded. To reload it, use:\n",
      "  %reload_ext run_and_test\n"
     ]
    }
   ],
   "execution_count": 170
  },
  {
   "metadata": {},
   "cell_type": "markdown",
   "source": "### Q1",
   "id": "b4769d46f3b91b67"
  },
  {
   "metadata": {
    "ExecuteTime": {
     "end_time": "2024-09-16T11:27:28.771867Z",
     "start_time": "2024-09-16T11:27:28.768038Z"
    }
   },
   "cell_type": "code",
   "source": [
    "# The function picture() takes two integers as arguments,\n",
    "# that you can assume are both at least equal to 1;\n",
    "# it prints out a \"picture\", that note has no trailing\n",
    "# spaces on any line.\n",
    "#\n",
    "# You might find the rstrip() string method useful. \n",
    "\n",
    "def picture(m, n):\n",
    "    #Top boundary\n",
    "    print(((' ' + r\"/\\ \".rstrip() * n + ' ') * m).rstrip())\n",
    "    #2nd boundary\n",
    "    print((r\"/ \".rstrip() + ' ' + '_' * 2 * (n - 1) + \" \" + r\"\\ \".rstrip()) * m)\n",
    "    #3rd boundary\n",
    "    print((r\"\\ \".rstrip() + ' ' * 2 * n + r\"/ \".rstrip()) * m)\n",
    "    #Bottom boundary\n",
    "    print(((' ' + r\"\\/ \".rstrip() * n + ' ') * m).rstrip())\n"
   ],
   "id": "cce9467380196403",
   "outputs": [],
   "execution_count": 245
  },
  {
   "metadata": {
    "ExecuteTime": {
     "end_time": "2024-09-16T11:27:42.292486Z",
     "start_time": "2024-09-16T11:27:42.281384Z"
    }
   },
   "cell_type": "code",
   "source": [
    "print(((' ' + r\"/\\ \".rstrip() * 4 + ' ') * 3).rstrip())\n",
    "print((r\"/ \".rstrip() + ' ' + '_' * 2 * (4 - 1) + \" \" + r\"\\ \".rstrip()) * 3)\n",
    "print((r\"\\ \".rstrip() + ' ' * 2 * 4 + r\"/ \".rstrip()) * 3)\n",
    "print(((' ' + r\"\\/ \".rstrip() * 4 + ' ') * 3).rstrip())"
   ],
   "id": "1de0031142e64f99",
   "outputs": [
    {
     "name": "stdout",
     "output_type": "stream",
     "text": [
      " /\\/\\/\\/\\  /\\/\\/\\/\\  /\\/\\/\\/\\\n",
      "/ ______ \\/ ______ \\/ ______ \\\n",
      "\\        /\\        /\\        /\n",
      " \\/\\/\\/\\/  \\/\\/\\/\\/  \\/\\/\\/\\/\n"
     ]
    }
   ],
   "execution_count": 246
  },
  {
   "metadata": {
    "ExecuteTime": {
     "end_time": "2024-09-16T11:27:43.864657Z",
     "start_time": "2024-09-16T11:27:43.859569Z"
    }
   },
   "cell_type": "code",
   "source": "picture(1,1)",
   "id": "c473e95519040823",
   "outputs": [
    {
     "name": "stdout",
     "output_type": "stream",
     "text": [
      " /\\\n",
      "/  \\\n",
      "\\  /\n",
      " \\/\n"
     ]
    }
   ],
   "execution_count": 247
  },
  {
   "metadata": {
    "ExecuteTime": {
     "end_time": "2024-09-16T11:27:45.145695Z",
     "start_time": "2024-09-16T11:27:45.136962Z"
    }
   },
   "cell_type": "code",
   "source": "picture(3,4)",
   "id": "364271c539409dbc",
   "outputs": [
    {
     "name": "stdout",
     "output_type": "stream",
     "text": [
      " /\\/\\/\\/\\  /\\/\\/\\/\\  /\\/\\/\\/\\\n",
      "/ ______ \\/ ______ \\/ ______ \\\n",
      "\\        /\\        /\\        /\n",
      " \\/\\/\\/\\/  \\/\\/\\/\\/  \\/\\/\\/\\/\n"
     ]
    }
   ],
   "execution_count": 248
  },
  {
   "metadata": {
    "ExecuteTime": {
     "end_time": "2024-09-16T11:27:46.324935Z",
     "start_time": "2024-09-16T11:27:46.317361Z"
    }
   },
   "cell_type": "code",
   "source": "picture(4,3)",
   "id": "1bbbbb2b109221b3",
   "outputs": [
    {
     "name": "stdout",
     "output_type": "stream",
     "text": [
      " /\\/\\/\\  /\\/\\/\\  /\\/\\/\\  /\\/\\/\\\n",
      "/ ____ \\/ ____ \\/ ____ \\/ ____ \\\n",
      "\\      /\\      /\\      /\\      /\n",
      " \\/\\/\\/  \\/\\/\\/  \\/\\/\\/  \\/\\/\\/\n"
     ]
    }
   ],
   "execution_count": 249
  },
  {
   "metadata": {
    "ExecuteTime": {
     "end_time": "2024-09-16T11:27:47.626705Z",
     "start_time": "2024-09-16T11:27:47.615700Z"
    }
   },
   "cell_type": "code",
   "source": "picture(6,6)",
   "id": "93014c4a99d750b2",
   "outputs": [
    {
     "name": "stdout",
     "output_type": "stream",
     "text": [
      " /\\/\\/\\/\\/\\/\\  /\\/\\/\\/\\/\\/\\  /\\/\\/\\/\\/\\/\\  /\\/\\/\\/\\/\\/\\  /\\/\\/\\/\\/\\/\\  /\\/\\/\\/\\/\\/\\\n",
      "/ __________ \\/ __________ \\/ __________ \\/ __________ \\/ __________ \\/ __________ \\\n",
      "\\            /\\            /\\            /\\            /\\            /\\            /\n",
      " \\/\\/\\/\\/\\/\\/  \\/\\/\\/\\/\\/\\/  \\/\\/\\/\\/\\/\\/  \\/\\/\\/\\/\\/\\/  \\/\\/\\/\\/\\/\\/  \\/\\/\\/\\/\\/\\/\n"
     ]
    }
   ],
   "execution_count": 250
  },
  {
   "metadata": {},
   "cell_type": "markdown",
   "source": "### Q2",
   "id": "baec23d0605ade7d"
  },
  {
   "metadata": {
    "ExecuteTime": {
     "end_time": "2024-09-16T07:53:13.989182Z",
     "start_time": "2024-09-16T07:53:13.951826Z"
    }
   },
   "cell_type": "code",
   "source": "!type test_1.txt",
   "id": "a547201def0635a4",
   "outputs": [
    {
     "name": "stdout",
     "output_type": "stream",
     "text": [
      "\n",
      "\n",
      "     1   :   2   !   3\n",
      "\n"
     ]
    }
   ],
   "execution_count": 31
  },
  {
   "metadata": {
    "ExecuteTime": {
     "end_time": "2024-09-16T07:53:15.307937Z",
     "start_time": "2024-09-16T07:53:15.266700Z"
    }
   },
   "cell_type": "code",
   "source": "!type test_2.txt",
   "id": "56f7743848da0160",
   "outputs": [
    {
     "name": "stdout",
     "output_type": "stream",
     "text": [
      "-5:2!3\n",
      "\n",
      "\n",
      "   6:6!8     \n",
      "\n",
      "1  : 29   ! 43\n",
      "\n",
      "\n",
      "  4:  17!  52\n",
      "      9   :-19     !29    \n",
      "      9   :19      !29    \n",
      "\n",
      "  8:26     !54     \n",
      "\n",
      "\n"
     ]
    }
   ],
   "execution_count": 32
  },
  {
   "metadata": {
    "ExecuteTime": {
     "end_time": "2024-09-16T09:22:48.458937Z",
     "start_time": "2024-09-16T09:22:48.450110Z"
    }
   },
   "cell_type": "code",
   "source": [
    "%%writefile list_of_tuples.py\n",
    "# The function list_of_tuples() takes a string as argument,\n",
    "# that you can assume is the name of a file that exists\n",
    "# in the working directory.\n",
    "#\n",
    "# The file can contain anywhere any number of blank lines\n",
    "# (that is, lines containing an arbitrary number of spaces\n",
    "# and tabs--an empty line being the limiting case).\n",
    "#\n",
    "# Nonblank lines are always of the form:\n",
    "#                a:b!c\n",
    "# with any number of spaces at the beginning and at the end of the line\n",
    "# (possibly none) and any number of spaces around : and around !\n",
    "# (possibly none).\n",
    "# When a < b < c, a tuple is added to the list that is eventually\n",
    "# returned.\n",
    "\n",
    "def list_of_tuples(filename):\n",
    "    L = []\n",
    "    \n",
    "    with open(filename) as file:\n",
    "        for line in file:\n",
    "            # Skip blank lines\n",
    "            if not line.isspace():\n",
    "                # Remove leading and trailing whitespace\n",
    "                line = line.strip()\n",
    "                \n",
    "                # Split the line using ':' and '!' and remove extra spaces\n",
    "                a, b_c = line.split(':')\n",
    "                b, c = b_c.split('!')\n",
    "                \n",
    "                # Strip spaces around the values and convert to integers\n",
    "                a = int(a.strip())\n",
    "                b = int(b.strip())\n",
    "                c = int(c.strip())\n",
    "                \n",
    "                # Add to list if a < b < c\n",
    "                if a < b < c:\n",
    "                    L.append((a, b, c))\n",
    "    \n",
    "    #print(L)  # Print the final list after processing\n",
    "    return L"
   ],
   "id": "95111ab43616ff02",
   "outputs": [
    {
     "name": "stdout",
     "output_type": "stream",
     "text": [
      "Overwriting list_of_tuples.py\n"
     ]
    }
   ],
   "execution_count": 131
  },
  {
   "metadata": {
    "ExecuteTime": {
     "end_time": "2024-09-16T09:26:50.602675Z",
     "start_time": "2024-09-16T09:26:50.598131Z"
    }
   },
   "cell_type": "code",
   "source": [
    "def list_of_tuples(filename):\n",
    "    L = []\n",
    "    \n",
    "    with open(filename) as file:\n",
    "        for line in file:\n",
    "            # Skip blank lines\n",
    "            if not line.isspace():\n",
    "                # Remove leading and trailing whitespace\n",
    "                line = line.strip()\n",
    "                \n",
    "                # Split the line using ':' and '!' and remove extra spaces\n",
    "                a, b_c = line.split(':')\n",
    "                b, c = b_c.split('!')\n",
    "                \n",
    "                # Strip spaces around the values and convert to integers\n",
    "                a = int(a.strip())\n",
    "                b = int(b.strip())\n",
    "                c = int(c.strip())\n",
    "                \n",
    "                # Add to list if a < b < c\n",
    "                if a < b < c:\n",
    "                    L.append((a, b, c))\n",
    "    \n",
    "    #print(L)  # Print the final list after processing\n",
    "    return L"
   ],
   "id": "f9c198d469c0ac98",
   "outputs": [],
   "execution_count": 137
  },
  {
   "metadata": {
    "ExecuteTime": {
     "end_time": "2024-09-16T09:28:22.433793Z",
     "start_time": "2024-09-16T09:28:22.373699Z"
    }
   },
   "cell_type": "code",
   "source": [
    "%%run_and_test python3 -c \"from list_of_tuples import list_of_tuples; list_of_tuples('test_1.txt')\"\n",
    "\n",
    "'[(1, 2, 3)]\\n'"
   ],
   "id": "fef5a132e55e7ea2",
   "outputs": [
    {
     "name": "stdout",
     "output_type": "stream",
     "text": [
      "\u001B[1mFAILED\u001B[0m\n",
      "\n",
      "\u001B[31m+ [(1, 2, 3)]\n",
      "\u001B[0m"
     ]
    }
   ],
   "execution_count": 143
  },
  {
   "metadata": {
    "ExecuteTime": {
     "end_time": "2024-09-16T09:28:14.489066Z",
     "start_time": "2024-09-16T09:28:14.473773Z"
    }
   },
   "cell_type": "code",
   "source": "list_of_tuples('test_1.txt')",
   "id": "5ff9334628cf282b",
   "outputs": [
    {
     "data": {
      "text/plain": [
       "[(1, 2, 3)]"
      ]
     },
     "execution_count": 140,
     "metadata": {},
     "output_type": "execute_result"
    }
   ],
   "execution_count": 140
  },
  {
   "metadata": {
    "ExecuteTime": {
     "end_time": "2024-09-16T09:28:18.170204Z",
     "start_time": "2024-09-16T09:28:18.096326Z"
    }
   },
   "cell_type": "code",
   "source": [
    "%%run_and_test python3 -c \"from list_of_tuples import list_of_tuples; list_of_tuples('test_2.txt')\"\n",
    "\n",
    "'''[(-5, 2, 3), (1, 29, 43), (4, 17, 52), (9, 19, 29), (8, 26, 54)]\\n'''"
   ],
   "id": "67b21b9a10c7a4b7",
   "outputs": [
    {
     "name": "stdout",
     "output_type": "stream",
     "text": [
      "\u001B[1mFAILED\u001B[0m\n",
      "\n",
      "\u001B[31m+ [(-5, 2, 3), (1, 29, 43), (4, 17, 52), (9, 19, 29), (8, 26, 54)]\n",
      "\u001B[0m"
     ]
    }
   ],
   "execution_count": 142
  },
  {
   "metadata": {
    "ExecuteTime": {
     "end_time": "2024-09-16T09:28:17.179670Z",
     "start_time": "2024-09-16T09:28:17.160421Z"
    }
   },
   "cell_type": "code",
   "source": "list_of_tuples('test_2.txt')",
   "id": "83b9a37f6a6f0765",
   "outputs": [
    {
     "data": {
      "text/plain": [
       "[(-5, 2, 3), (1, 29, 43), (4, 17, 52), (9, 19, 29), (8, 26, 54)]"
      ]
     },
     "execution_count": 141,
     "metadata": {},
     "output_type": "execute_result"
    }
   ],
   "execution_count": 141
  }
 ],
 "metadata": {
  "kernelspec": {
   "display_name": "Python 3",
   "language": "python",
   "name": "python3"
  },
  "language_info": {
   "codemirror_mode": {
    "name": "ipython",
    "version": 2
   },
   "file_extension": ".py",
   "mimetype": "text/x-python",
   "name": "python",
   "nbconvert_exporter": "python",
   "pygments_lexer": "ipython2",
   "version": "2.7.6"
  }
 },
 "nbformat": 4,
 "nbformat_minor": 5
}
